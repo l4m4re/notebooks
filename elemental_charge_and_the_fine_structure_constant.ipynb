{
 "cells": [
  {
   "cell_type": "markdown",
   "id": "37ae09bb",
   "metadata": {},
   "source": [
    "# Elemental charge and the fine structure constant\n",
    "\n",
    "By Arend Lammertink, MScEE. E-mail: lamare at gmail dot com.\n",
    "\n",
    "## Definition of the medium\n",
    "\n",
    "We assume all space to be filled with a superfluid like medium, which behavior can be defined by four fundamental constants: the speed of light, the viscosity of the medium, Planck's constant and elementary charge e. \n",
    "\n",
    "Hereby, we define the value of viscosity by the inverse of vacuum permeability  $μ_0$, which used to be defined as:  $4π×10^{−7} $ H/m.\n",
    "\n",
    "(Ref: https://en.wikipedia.org/wiki/Vacuum_permeability )\n",
    "\n",
    "Further, we define the value of elementary charge exactly as defined in the SI system, but assign a unit of measurement in kilogram per second [kg/s]:\n",
    "\n",
    "(Ref: https://en.wikipedia.org/wiki/Elementary_charge )\n",
    "\n",
    "For more background information about the characteristics of the medium see: \n",
    "\n",
    "https://www.researchgate.net/publication/341931087_Revision_and_integration_of_Maxwell's_and_Navier-Stokes'_Equations_and_the_origin_of_quantization_in_Superfluids_and_Spacetime_itself\n"
   ]
  },
  {
   "cell_type": "code",
   "execution_count": 1,
   "id": "82ff9b07",
   "metadata": {},
   "outputs": [],
   "source": [
    "from math import *\n",
    "\n",
    "c     = 299792458.0          # speed of light       [m/s]\n",
    "eta   = 1/(4*pi*1e-7)        # viscosity            [Pa-s], [kg/m-s], [N-s/m2], [J-s/m^3]\n",
    "h     = 6.62607015e-34       # Planck's constant    [J-s], [kg/m^2-s] \n",
    "\n",
    "e     = 1.602176634e-19      # elementary charge    [kg/s]"
   ]
  },
  {
   "cell_type": "markdown",
   "id": "3d6cc752",
   "metadata": {},
   "source": [
    "From there, we can define further constants:"
   ]
  },
  {
   "cell_type": "code",
   "execution_count": 2,
   "id": "c22fcb7d",
   "metadata": {},
   "outputs": [],
   "source": [
    "rho   = eta/(c*c)            # mass density   8.85418781762039e-12 [kg/m^3]\n",
    "\n",
    "k     = eta/rho              # diffusivity, kinematic viscosity or quantum circulation constant \n",
    "                             # 8.987551787368176e+16 [m^2/s] \n",
    "    \n",
    "m     = h/k                  # elementary mass 7.372497323812708e-51 [kg]"
   ]
  },
  {
   "cell_type": "markdown",
   "id": "b987fbba",
   "metadata": {},
   "source": [
    "## Vector Laplace operator\n",
    "\n",
    "Next, we consider the vector Laplace operator, defined by:\n",
    "\n",
    "Δ**F** = grad div **F** - curl curl **F**\n",
    "\n",
    "(Ref. https://en.wikipedia.org/wiki/Laplace_operator#Vector_Laplacian )\n",
    "\n",
    "\n",
    "The vector Laplace operator describes the second spatial derivative in three dimensions, which would be the three dimensional generalization of the one dimensional $d^2/dx^2$, and has a unit of measurement in per meter squared [$/m^2$].\n",
    "\n",
    "What this operator does is establish a Helmholtz decomposition of the vector field **F**, whereby the term grad div **F** results in a **linear** component, the curl free or irrotational field usually denoted **E**, and the term curl curl **F** results in an **angular** component, the divergence free or incompressible field usually denoted **B**. And these two components may be evaluated independently of one another. \n",
    "\n",
    "(Ref. https://en.wikipedia.org/wiki/Helmholtz_decomposition )\n",
    "\n",
    "So when we consider the ratio of charge to mass density $q/ρ$ within this model, we obtain a unit of measurement in $[kg/s] [m^3/kg] = [m^3/s]$, whereby the $m^3$ describes a volume V, so what this ratio describes is a rate of change of the volume V of some charged object per second.\n",
    "\n",
    "And since the grad div operator has a unit in [$/m^2$] we obtain a unit of measurement in [$m/s$] or velocity when we compute grad div $e/ρ$.\n",
    "\n",
    "The grad div operator in the vector Laplacian can be thought of as a surface integral over a spherical volume   $(4/3) π R^3$, divided by radius R, whereby the limit of R is taken to zero. However, we can compute the same operation without taking the limit of R to zero by computing the radius to volume ratio R/V for such an object, such as a ring vortex with big toroidal radius R and small poloidal radius r, and then use multiplication, provided the fields involved are symmetrical with respect to the surface area of the object. Fortunately, this is the case in this exercise. \n",
    "\n",
    "### Application to a thin superfluid vortex ring\n",
    "\n",
    "(Also see: https://en.wikipedia.org/wiki/Toroidal_and_poloidal_coordinates )\n",
    "\n",
    "The volume of a ring vortex with big toroidal radius R and small polloidal radius r is given by:\n",
    "\n",
    "$$\n",
    "\\displaystyle V = 2π^2Rr^2.\n",
    "$$\n",
    "\n",
    "and thus the ratio R/V becomes:\n",
    "\n",
    "$$\n",
    "\\displaystyle R/V = R/2π^2Rr^2 = 1/2π^2r^2.\n",
    "$$\n",
    "\n",
    "\n",
    "With this, we can define linear momentum $P=mv$ for a ring vortex with mass m and charge q by:\n",
    "\n",
    "$$\n",
    "\\displaystyle P = m \\text{ grad div }\\text (q/ρ) = {m \\over (2 π^2 r^2)} (q/ρ).\n",
    "$$\n",
    "\n",
    "By substituting  $m = ρ   2π^2 R r^2$, we obtain\n",
    "\n",
    "$$\n",
    "\\displaystyle P = ρ 2π^2 R r^2 1/(2 π^2 r^2) (q/ρ) = R q.\n",
    "$$\n",
    "\n",
    "or:\n",
    "\n",
    "$$\n",
    "\\displaystyle P = R q = mv.\n",
    "$$\n",
    "\n",
    "\n",
    "The angular momentum of a quantized ring vortex in a superfluid is given by:\n",
    "\n",
    "$$\n",
    "\\displaystyle P = ρ Γ π R^2 (1 + 3/4 ε^2),\n",
    "$$\n",
    "\n",
    "with ε the ratio of the ring radius R to the radius of the hollow core a, or $ε=a/R$.\n",
    "\n",
    "(Ref. eq. 1.8 in: https://www.researchgate.net/publication/232025984_Dynamics_of_thin_vortex_rings )\n",
    "\n",
    "Under the assumption that $a<<R$, this reduces to:\n",
    "\n",
    "$$\n",
    "\\displaystyle P = ρ Γ π R^2.\n",
    "$$\n",
    "\n",
    "\n",
    "\n",
    "Because of momentum conservation, the angular and linear momentum of such an object must be equal in magnitude, so we can equate them and simplify:\n",
    "\n",
    "$$\n",
    "\\displaystyle P = ρ Γ π R^2 (1 + 3/4 ε^2) = R q\n",
    "$$\n",
    "\n",
    "\n",
    "$$\n",
    "\\displaystyle ρ Γ π R^2 (1 + 3/4 ε^2) = R q\n",
    "$$\n",
    "\n",
    "$$\n",
    "\\displaystyle ρ Γ π R (1 + 3/4 ε^2) = q\n",
    "$$\n",
    "\n",
    "And solve for R:\n",
    "\n",
    "$$\n",
    "\\displaystyle  R = {q \\over ρ Γ π (1 + 3/4 ε^2) }\n",
    "$$\n",
    "\n",
    "Under the assumption that $a<<R$, this reduces to:\n",
    "\n",
    "$$\n",
    "\\displaystyle  R = {q \\over ρ Γ π}\n",
    "$$\n",
    "\n",
    "This way, we can approximate R and confirm both the angular and linear momentum are equal for the elemental ring vortex with charge e and circulation Γ=k:\n",
    "\n"
   ]
  },
  {
   "cell_type": "code",
   "execution_count": 3,
   "id": "9d5d10f8",
   "metadata": {},
   "outputs": [
    {
     "name": "stdout",
     "output_type": "stream",
     "text": [
      "6.408706536e-26\n",
      "1.0267879866142279e-44\n",
      "1.0267879866142279e-44\n"
     ]
    }
   ],
   "source": [
    "R = e/(rho*k*pi)          # Approximate radius of elemental vortex ring 6.408706536e-26 [m]\n",
    "print(R)\n",
    "print(rho*k*pi*R**2)\n",
    "print(R*e)"
   ]
  },
  {
   "cell_type": "markdown",
   "id": "6608993e",
   "metadata": {},
   "source": [
    "And by dividing linear momentum by mass, we can compute a velocity. For the elementary ring vortex with mass m, this computes to:"
   ]
  },
  {
   "cell_type": "code",
   "execution_count": 4,
   "id": "e30fdd58",
   "metadata": {},
   "outputs": [
    {
     "name": "stdout",
     "output_type": "stream",
     "text": [
      "1392.7275135085724 km/s\n"
     ]
    }
   ],
   "source": [
    "print((R*e)/(m*1000), \"km/s\")"
   ]
  },
  {
   "cell_type": "markdown",
   "id": "f3347c35",
   "metadata": {},
   "source": [
    "### Definition of elemental charge from the fine structure constant definition\n",
    "\n",
    "The fine structure constant α is defined by:\n",
    "\n",
    "$$\n",
    "\\displaystyle α = {e^2 \\over 4 π \\epsilon_0 {h\\over 2π} c}\n",
    "$$\n",
    "\n",
    "\n",
    "(Ref. https://en.wikipedia.org/wiki/Fine-structure_constant )\n",
    "\n",
    "\n",
    "Within our model, we substitute $\\epsilon_0 = \\rho$. And then we can simplify to:\n",
    "\n",
    "$$\n",
    "\\displaystyle α = {e^2 \\over 2 ρ h c}.\n",
    "$$\n",
    "\n",
    "And then we can rewrite this to define elementary charge:\n",
    "\n",
    "\n",
    "$$\n",
    "\\displaystyle e^2 = e*e = {2 α ρ h c}.\n",
    "$$\n",
    "\n",
    "Next, we can approximate α by:\n",
    "\n",
    "$$\n",
    "\\displaystyle α = {1 \\over 8π^2√3}.\n",
    "$$\n",
    "\n",
    "(Ref: eq. 16 in: https://vixra.org/pdf/1310.0237v1.pdf )\n",
    "\n",
    "\n",
    "And we substite α by this approximation and simplify to obtain:\n",
    "\n",
    "$$\n",
    "\\displaystyle e*e = {ρ h c \\over 4π^2√3}.\n",
    "$$\n",
    "\n",
    "Next step is to multiply by $m/m$, $R/R$ and $π/π$ and re-arrange:\n",
    "\n",
    "\n",
    "$$\n",
    "\\displaystyle e*e = ρ {h \\over m} π R * { m c \\over 4 π^3 √3 R}.\n",
    "$$\n",
    "\n",
    "And then we evaluate both terms:\n"
   ]
  },
  {
   "cell_type": "code",
   "execution_count": 5,
   "id": "ec800b3e",
   "metadata": {},
   "outputs": [
    {
     "name": "stdout",
     "output_type": "stream",
     "text": [
      "angular: 1.602176634e-19\n",
      "linear : 1.605442311612586e-19\n"
     ]
    }
   ],
   "source": [
    "angular = rho*(h/m)*pi*R\n",
    "linear  = (m*c)/(4*pi**3*sqrt(3)*R)\n",
    "\n",
    "print(\"angular:\", angular)\n",
    "print(\"linear :\", linear)\n"
   ]
  },
  {
   "cell_type": "markdown",
   "id": "eca5f605",
   "metadata": {},
   "source": [
    "Obviously, if we were to multiply these values and compute the square root, we obtain a value that is very close to the defined value of elemental charge, e. \n",
    "\n",
    "What is interesting, however, is that the angular value is already exactly equal to elemental charge e. And its unit of measurement evaluates to $[kg/m^3] * [m^2/s] * [m] = [kg/s]$, the unit we assigned to electrical charge. And as can be expected, the unit of measurement for the linear term also works out to $[kg/s]$.\n",
    "\n",
    "However, there is a slight mismatch between the two values, which should be equal. In order to solve that problem, we compute $P^2$ using the relation we already found, namely $P = R q = mv$:\n",
    "\n",
    "\n",
    "$$\n",
    "\\displaystyle P^2 = R^2 q^2 = R^2 e*e = R^2 * ρ {h \\over m} π R * { m c \\over 4 π^3 √3 R}.\n",
    "$$\n",
    "\n",
    "And simplify to:\n",
    "\n",
    "$$\n",
    "\\displaystyle P^2 = R^2 q^2 = R^2 e*e = R^2 * { ρ h c \\over 4 π^2 √3}.\n",
    "$$\n",
    "\n",
    "\n",
    "Next, we also compute the angular momentum squared, $P^2$, for a thin vortex ring using eq. 1.8 from the already referenced paper \"Dynamics of thin vortex rings\":\n",
    "\n",
    "$$\n",
    "\\displaystyle P = ρ Γ π R^2 (1 + 3/4 ε^2).\n",
    "$$\n",
    "\n",
    "\n",
    "This way we obtain:\n",
    "\n",
    "$$\n",
    "\\displaystyle P^2 = (ρ Γ π R^2(1 + 3/4 ε^2))^2.\n",
    "$$\n",
    "\n",
    "\n",
    "$$\n",
    "\\displaystyle P^2 = ρ^2 Γ^2 π^2 R^4 (1 + 3/4 ε^2)^2.\n",
    "$$\n",
    "\n",
    "And then we equate both equations:\n",
    "\n",
    "$$\n",
    "\\displaystyle P^2 = ρ^2 Γ^2 π^2 R^4 (1 + 3/4 ε^2)^2 = R^2 * { ρ h c \\over 4 π^2 √3}.\n",
    "$$\n",
    "\n",
    "And rewrite to:\n",
    "\n",
    "\n",
    "$$\n",
    "\\displaystyle (1 + 3/4 ε^2)^2 = {h c \\over 4π^2 √3 ρ Γ^2 π^2 R^2 }\n",
    "$$\n",
    "\n",
    "\n",
    "In order to simplify further calculations, we take the right term together to define a variable $X$:\n",
    "\n",
    "$$\n",
    "\\displaystyle X = {h c \\over 4π^2 √3 ρ Γ^2 π^2 R^2 },\n",
    "$$\n",
    "\n",
    "thus:\n",
    "\n",
    "\n",
    "$$\n",
    "\\displaystyle (1 + 3/4 ε^2)^2 = X.\n",
    "$$\n",
    "\n",
    "And solve for ε:\n",
    "\n",
    "$$\n",
    "\\displaystyle ε = \\sqrt{ {4 \\over 3} (\\sqrt{X}-1) }.\n",
    "$$\n",
    "\n",
    "And since ε is defined as the ratio $a/R$ we can compute a along:\n",
    "\n",
    "$$\n",
    "\\displaystyle a = ε R.\n",
    "$$\n",
    "\n",
    "\n"
   ]
  },
  {
   "cell_type": "code",
   "execution_count": 6,
   "id": "adfdbaa5",
   "metadata": {},
   "outputs": [
    {
     "name": "stdout",
     "output_type": "stream",
     "text": [
      "ε: 0.03685320484112684\n",
      "a: 2.361813747378764e-27\n"
     ]
    }
   ],
   "source": [
    "X   = (h*c)/(4*pi*pi*sqrt(3)*rho*k*k*pi*pi*R*R)\n",
    "eps = sqrt( (4/3)* (sqrt(X)- 1) )\n",
    "a   = eps*R    # radius of hollow core 2.361813747378764e-27 [m]\n",
    "\n",
    "print(\"ε:\", eps)\n",
    "print(\"a:\", a)"
   ]
  },
  {
   "cell_type": "markdown",
   "id": "a945bc43",
   "metadata": {},
   "source": [
    "## Corrected definition of elemental charge\n",
    "\n",
    "Next step is to correct our definition for linear elementary charge by including the term $(1 + 3/4 ε^2)^2$ to come to our new definition of elemental charge squared:\n",
    "\n",
    "$$\n",
    "\\displaystyle e*e = ρ {h \\over m} π R * { m c \\over 4 π^3 √3 R (1 + 3/4 ε^2)^2}.\n",
    "$$\n",
    "\n"
   ]
  },
  {
   "cell_type": "code",
   "execution_count": 7,
   "id": "79fda79a",
   "metadata": {},
   "outputs": [
    {
     "name": "stdout",
     "output_type": "stream",
     "text": [
      "angular   charge: 1.602176634e-19\n",
      "linear    charge: 1.6021766340000001e-19\n",
      "elemental charge: 1.602176634e-19\n"
     ]
    }
   ],
   "source": [
    "a_e = 1 + (3/4) * eps *eps\n",
    "\n",
    "linear  = (m*c)/(4*pi**3*sqrt(3)*R*a_e*a_e)\n",
    "angular = rho*(h/m)*pi*R\n",
    "q       = sqrt(linear*angular)\n",
    "\n",
    "print(\"angular   charge:\", angular)\n",
    "print(\"linear    charge:\", linear)\n",
    "print(\"elemental charge:\", q)\n"
   ]
  },
  {
   "cell_type": "markdown",
   "id": "d9c631e2",
   "metadata": {},
   "source": [
    "## New definition of fine structure constant α\n",
    "\n",
    "Next step is to return to the equation we started with:\n",
    "\n",
    "\n",
    "$$\n",
    "\\displaystyle e^2 = e*e = {2 α ρ h c}.\n",
    "$$\n",
    "\n",
    "And equate this to our corrected equation:\n",
    "\n",
    "$$\n",
    "\\displaystyle e*e = {2 α ρ h c} = ρ {h \\over m} π R * { m c \\over 4 π^3 √3 R (1 + 3/4 ε^2)^2}.\n",
    "$$\n",
    "\n",
    "And solve for α to obtain a new definition for α:\n",
    "\n",
    "$$\n",
    "\\displaystyle α = { 1 \\over 8 π^2 √3 (1 + 3/4 ε^2)^2}.\n",
    "$$\n",
    "\n",
    "We can compute this and compare to the the 2018 CODATA recommended value of α:\n",
    "\n",
    "$$\n",
    "\\displaystyle α = 0.007297352569311\n",
    "$$\n",
    "\n",
    "(Ref. https://en.wikipedia.org/wiki/Fine-structure_constant )\n",
    "\n"
   ]
  },
  {
   "cell_type": "code",
   "execution_count": 8,
   "id": "c9495c03",
   "metadata": {},
   "outputs": [
    {
     "name": "stdout",
     "output_type": "stream",
     "text": [
      "alpha:     0.007297352565305213\n",
      "codata:    0.007297352569311\n",
      "relative:  1.0000000005489371\n"
     ]
    }
   ],
   "source": [
    "alpha        = 1/(8*pi*pi*sqrt(3)*(1+(3/4)*eps*eps)*(1+(3/4)*eps*eps) )\n",
    "alpha_codata = 0.007297352569311\n",
    "\n",
    "print(\"alpha:    \",alpha)\n",
    "print(\"codata:   \",alpha_codata)\n",
    "print(\"relative: \",alpha_codata/alpha)"
   ]
  },
  {
   "cell_type": "markdown",
   "id": "304935e6",
   "metadata": {},
   "source": [
    "Obviously, the result is very close to the official value, so it seems we have solved an important problem in theoretical physics.\n",
    "\n",
    "Also, since this definition of α has been directly derived from our new definition for elementary charge, this result goes a lot further than just offering an explanation for the physical origin of the fine structure constant α, it also offers a much deeper understanding of what charge is and, by extension, the electromagnetic fields.\n"
   ]
  },
  {
   "cell_type": "code",
   "execution_count": null,
   "id": "ee857b5f",
   "metadata": {},
   "outputs": [],
   "source": []
  }
 ],
 "metadata": {
  "kernelspec": {
   "display_name": "Python 3 (ipykernel)",
   "language": "python",
   "name": "python3"
  },
  "language_info": {
   "codemirror_mode": {
    "name": "ipython",
    "version": 3
   },
   "file_extension": ".py",
   "mimetype": "text/x-python",
   "name": "python",
   "nbconvert_exporter": "python",
   "pygments_lexer": "ipython3",
   "version": "3.9.13"
  }
 },
 "nbformat": 4,
 "nbformat_minor": 5
}
